{
  "nbformat": 4,
  "nbformat_minor": 0,
  "metadata": {
    "colab": {
      "name": "Untitled0.ipynb",
      "provenance": [],
      "authorship_tag": "ABX9TyOH0QOvr2v0OnvdLCTY8lhH",
      "include_colab_link": true
    },
    "kernelspec": {
      "name": "python3",
      "display_name": "Python 3"
    },
    "language_info": {
      "name": "python"
    }
  },
  "cells": [
    {
      "cell_type": "markdown",
      "metadata": {
        "id": "view-in-github",
        "colab_type": "text"
      },
      "source": [
        "<a href=\"https://colab.research.google.com/github/brunasiqueira3103/brunasiqueira3103/blob/main/Untitled0.ipynb\" target=\"_parent\"><img src=\"https://colab.research.google.com/assets/colab-badge.svg\" alt=\"Open In Colab\"/></a>"
      ]
    },
    {
      "cell_type": "code",
      "execution_count": 17,
      "metadata": {
        "colab": {
          "base_uri": "https://localhost:8080/"
        },
        "id": "7omzYFrY0JbG",
        "outputId": "2ae61514-9192-457b-9b53-c202c4f69ad2"
      },
      "outputs": [
        {
          "output_type": "stream",
          "name": "stdout",
          "text": [
            "digite seu peso: 56\n",
            "digite sua altura: 1.59\n",
            "você no peso ideal\n"
          ]
        }
      ],
      "source": [
        "#teste\n",
        "\n",
        "peso=float(input(\"digite seu peso: \"))\n",
        "peso=peso\n",
        "altura=float(input(\"digite sua altura: \"))\n",
        "altura=altura\n",
        "imc= peso / altura**2\n",
        "\n",
        "if imc < 18 :\n",
        "  print(\"vc esta abaixo do peso\")\n",
        "elif imc < 25 :\n",
        "      print(\"você no peso ideal\")\n",
        "else:\n",
        "  print(\"você esta obeso, gordinho\")\n",
        "\n",
        "\n"
      ]
    }
  ]
}